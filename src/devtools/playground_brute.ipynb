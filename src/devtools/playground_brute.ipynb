{
 "cells": [
  {
   "cell_type": "markdown",
   "id": "8f66995a",
   "metadata": {},
   "source": [
    "# Exploration - \"Brute Force\" Approach\n",
    "\n",
    "Exploring the problem \"head on\" before we optimize. There are two elements we need to track, tendered CCY and any change received. \n",
    "\n",
    "Let's begin by getting a list of all valid combinations and associated change.\n",
    "\n",
    "Brute force exploration surfaced the following pointers:\n",
    "* `itertools.combinations` proved useful\n",
    "* Viable combinations formed a bell curve and seemed manageable\n",
    "* Use `Decimal` to handle floating point precision issues\n",
    "\n",
    "Follow Up Questions:\n",
    "\n",
    "1) When the total lengths are equal is one solution preferable?\n",
    "\n",
    "    - Option `(1)` - Pay 3 units / Receive 5 units\n",
    "    - Option `(2)` - Pay 8 units / Receive 0 units\n",
    "    \n",
    "   The option `(2)` is more expensive to compute. For performance, I might opt not to search to find the latter if option `(1)` is equivalent & sufficient\n",
    "\n",
    "Although Brute force works, performance gets exponentially worse past a certain point (~14 items).\n",
    "\n",
    "Ideas:\n",
    "* Memoization might help\n",
    "* BFS tree might help (worried about being too wide)"
   ]
  },
  {
   "cell_type": "code",
   "execution_count": null,
   "id": "8d4769c8",
   "metadata": {},
   "outputs": [],
   "source": [
    "import pandas as pd\n",
    "import numpy as np\n",
    "import math\n",
    "import logging\n",
    "\n",
    "from agora.helpers import populate_wallet, get_total, find_viable_combinations, calculate_change\n",
    "from decimal import Decimal\n",
    "from itertools import combinations\n",
    "\n",
    "import matplotlib.pyplot as plt\n",
    "from tqdm import tqdm\n",
    "\n",
    "from agora.ref_data import DECIMALIZED_DENOMINATIONS_USD\n",
    "\n",
    "logger = logging.getLogger(__name__)\n",
    "logging.basicConfig(level=logging.INFO, format=\"%(levelname)s: %(message)s\")"
   ]
  },
  {
   "cell_type": "code",
   "execution_count": 2,
   "id": "989f2144",
   "metadata": {},
   "outputs": [
    {
     "name": "stderr",
     "output_type": "stream",
     "text": [
      "INFO: This is an info log.\n",
      "WARNING: This is a warning log.\n",
      "ERROR: This is an error log.\n",
      "CRITICAL: This is a critical log.\n"
     ]
    }
   ],
   "source": [
    "# Log messages\n",
    "logger.info(\"This is an info log.\")\n",
    "logger.debug(\"This is a debug log.\")\n",
    "logger.warning(\"This is a warning log.\")\n",
    "logger.error(\"This is an error log.\")\n",
    "logger.critical(\"This is a critical log.\")"
   ]
  },
  {
   "cell_type": "code",
   "execution_count": 3,
   "id": "cb28c02e",
   "metadata": {},
   "outputs": [],
   "source": [
    "# inputs\n",
    "price: Decimal = Decimal(\"15.05\")\n",
    "\n",
    "money: dict[str, int] = {\n",
    "    \"100\": 1,\n",
    "    \"20\": 4,\n",
    "    \"10\": 2,\n",
    "    \"1\": 5,\n",
    "    \"0.25\": 1,\n",
    "    \"0.10\": 6,\n",
    "    \"0.05\": 3,\n",
    "    # \"0.01\": 5,  # <|--- explodes the problem\n",
    "}\n",
    "\n",
    "# setup wallet\n",
    "wallet = populate_wallet(money)\n",
    "\n",
    "# initialize variables\n",
    "best_combination = (wallet, calculate_change(get_total(wallet) - price))\n",
    "best_length: int = len(wallet) + len(calculate_change(get_total(wallet) - price))"
   ]
  },
  {
   "cell_type": "code",
   "execution_count": 4,
   "id": "71682bdd",
   "metadata": {},
   "outputs": [
    {
     "name": "stdout",
     "output_type": "stream",
     "text": [
      "Money in wallet - $206.00\n"
     ]
    }
   ],
   "source": [
    "print(f\"Money in wallet - ${get_total(wallet)}\")"
   ]
  },
  {
   "cell_type": "code",
   "execution_count": 5,
   "id": "c6f9b04a",
   "metadata": {},
   "outputs": [
    {
     "data": {
      "text/plain": [
       "0.30000000000000004"
      ]
     },
     "execution_count": 5,
     "metadata": {},
     "output_type": "execute_result"
    }
   ],
   "source": [
    "# Classic floating point precision\n",
    "0.1 + 0.2"
   ]
  },
  {
   "cell_type": "code",
   "execution_count": 6,
   "id": "f8349f69",
   "metadata": {},
   "outputs": [
    {
     "data": {
      "text/plain": [
       "733"
      ]
     },
     "execution_count": 6,
     "metadata": {},
     "output_type": "execute_result"
    }
   ],
   "source": [
    "# Check wallet for all viable combinations\n",
    "num_picks = 8\n",
    "len([sum(combo) for combo in find_viable_combinations(wallet, num_picks, price)])"
   ]
  },
  {
   "cell_type": "code",
   "execution_count": 7,
   "id": "dbe7b801",
   "metadata": {},
   "outputs": [
    {
     "data": {
      "text/plain": [
       "1124000727777607680000"
      ]
     },
     "execution_count": 7,
     "metadata": {},
     "output_type": "execute_result"
    }
   ],
   "source": [
    "# Here is the big problem if we aren't thoughtful -- huge search space!\n",
    "math.factorial(len(wallet))"
   ]
  },
  {
   "cell_type": "code",
   "execution_count": 8,
   "id": "937adb51",
   "metadata": {},
   "outputs": [
    {
     "name": "stderr",
     "output_type": "stream",
     "text": [
      "Processing combinations: 100%|██████████████████████████████████████| 22/22 [00:02<00:00,  7.95it/s]\n"
     ]
    }
   ],
   "source": [
    "# Observation: As the number of combinations increases, the number of viable combinations decreases -- didn't see that coming!\n",
    "plot_values = []\n",
    "\n",
    "for i in tqdm(range(1, len(wallet) + 1), desc=\"Processing combinations\", ncols=100):\n",
    "    plot_values.append(len(find_viable_combinations(wallet, i, price)))"
   ]
  },
  {
   "cell_type": "code",
   "execution_count": 9,
   "id": "02875602",
   "metadata": {},
   "outputs": [
    {
     "data": {
      "image/png": "[encoded data removed]",
      "text/plain": [
       "<Figure size 640x480 with 1 Axes>"
      ]
     },
     "metadata": {},
     "output_type": "display_data"
    }
   ],
   "source": [
    "# Plot search space\n",
    "plt.bar(range(1, len(plot_values) + 1), plot_values)\n",
    "plt.xlabel(f\"For # items chosen from wallet (up to {len(plot_values)} total)\")\n",
    "plt.ylabel(\"Viable combinations\")\n",
    "plt.title(f\"How many ways can we pay ${price}?\")\n",
    "plt.show()"
   ]
  },
  {
   "cell_type": "code",
   "execution_count": 10,
   "id": "f1fb8329",
   "metadata": {},
   "outputs": [
    {
     "name": "stdout",
     "output_type": "stream",
     "text": [
      "You have enough money to buy the item.\n",
      "Size of wallet: 22\n"
     ]
    }
   ],
   "source": [
    "if get_total(wallet) > price:\n",
    "    print(\"You have enough money to buy the item.\")\n",
    "\n",
    "print(f\"Size of wallet: {len(wallet)}\")"
   ]
  },
  {
   "cell_type": "code",
   "execution_count": 11,
   "id": "86296874",
   "metadata": {},
   "outputs": [
    {
     "data": {
      "text/plain": [
       "1540"
      ]
     },
     "execution_count": 11,
     "metadata": {},
     "output_type": "execute_result"
    }
   ],
   "source": [
    "math.comb(len(wallet), 3)"
   ]
  },
  {
   "cell_type": "code",
   "execution_count": 12,
   "id": "5a80f01c",
   "metadata": {},
   "outputs": [
    {
     "name": "stdout",
     "output_type": "stream",
     "text": [
      "Number of combinations of length 2: 26\n",
      "{(Decimal('100'), Decimal('10')), (Decimal('20'), Decimal('20')), (Decimal('10'), Decimal('0.25')), (Decimal('1'), Decimal('0.25')), (Decimal('0.25'), Decimal('0.05')), (Decimal('10'), Decimal('0.05')), (Decimal('1'), Decimal('0.05')), (Decimal('20'), Decimal('1')), (Decimal('0.25'), Decimal('0.10')), (Decimal('100'), Decimal('0.25')), (Decimal('20'), Decimal('10')), (Decimal('0.10'), Decimal('0.05')), (Decimal('10'), Decimal('0.10')), (Decimal('1'), Decimal('0.10')), (Decimal('100'), Decimal('0.05')), (Decimal('0.10'), Decimal('0.10')), (Decimal('100'), Decimal('0.10')), (Decimal('20'), Decimal('0.25')), (Decimal('0.05'), Decimal('0.05')), (Decimal('20'), Decimal('0.05')), (Decimal('100'), Decimal('20')), (Decimal('1'), Decimal('1')), (Decimal('10'), Decimal('1')), (Decimal('10'), Decimal('10')), (Decimal('20'), Decimal('0.10')), (Decimal('100'), Decimal('1'))}\n"
     ]
    }
   ],
   "source": [
    "# Generate all combinations of a specific length (e.g., )\n",
    "comb_length = 2\n",
    "combinations_list = set(sorted(combinations(wallet, comb_length)))\n",
    "\n",
    "print(f\"Number of combinations of length {comb_length}: {len(combinations_list)}\")\n",
    "print(combinations_list)"
   ]
  },
  {
   "cell_type": "code",
   "execution_count": 13,
   "id": "efae60a8",
   "metadata": {},
   "outputs": [
    {
     "data": {
      "text/plain": [
       "Decimal('206.00')"
      ]
     },
     "execution_count": 13,
     "metadata": {},
     "output_type": "execute_result"
    }
   ],
   "source": [
    "get_total(wallet)"
   ]
  },
  {
   "cell_type": "code",
   "execution_count": 14,
   "id": "b3212df5",
   "metadata": {},
   "outputs": [
    {
     "data": {
      "text/plain": [
       "[Decimal('0.05'), Decimal('5.00')]"
      ]
     },
     "execution_count": 14,
     "metadata": {},
     "output_type": "execute_result"
    }
   ],
   "source": [
    "calculate_change(Decimal(\"5.05\"))"
   ]
  },
  {
   "cell_type": "code",
   "execution_count": 15,
   "id": "5d2c7676",
   "metadata": {},
   "outputs": [
    {
     "name": "stderr",
     "output_type": "stream",
     "text": [
      "INFO: Stopped early - Best combination found\n"
     ]
    }
   ],
   "source": [
    "for picks in range(1, len(wallet) + 1):\n",
    "\n",
    "    logger.debug(f\"Trying combinations of {picks} item(s) from wallet\")\n",
    "\n",
    "    for combination in find_viable_combinations(wallet, 2, price):\n",
    "\n",
    "        change = calculate_change(get_total(combination) - price)\n",
    "        ccy_exchanged = len(combination) + len(change)\n",
    "\n",
    "        if ccy_exchanged < best_length:\n",
    "            best_combination = (combination, change)\n",
    "            best_length = ccy_exchanged\n",
    "\n",
    "    if best_length <= picks:\n",
    "        logger.info(\n",
    "            f\"Stopped early - Best combination found\"\n",
    "        )\n",
    "        break"
   ]
  },
  {
   "cell_type": "code",
   "execution_count": 16,
   "id": "f39c35c2",
   "metadata": {},
   "outputs": [
    {
     "data": {
      "text/plain": [
       "3"
      ]
     },
     "execution_count": 16,
     "metadata": {},
     "output_type": "execute_result"
    }
   ],
   "source": [
    "best_length"
   ]
  },
  {
   "cell_type": "code",
   "execution_count": 17,
   "id": "7eff6468",
   "metadata": {},
   "outputs": [
    {
     "data": {
      "text/plain": [
       "((Decimal('20'), Decimal('0.05')), [Decimal('5.00')])"
      ]
     },
     "execution_count": 17,
     "metadata": {},
     "output_type": "execute_result"
    }
   ],
   "source": [
    "best_combination"
   ]
  }
 ],
 "metadata": {
  "kernelspec": {
   "display_name": ".venv",
   "language": "python",
   "name": "python3"
  },
  "language_info": {
   "codemirror_mode": {
    "name": "ipython",
    "version": 3
   },
   "file_extension": ".py",
   "mimetype": "text/x-python",
   "name": "python",
   "nbconvert_exporter": "python",
   "pygments_lexer": "ipython3",
   "version": "3.11.8"
  }
 },
 "nbformat": 4,
 "nbformat_minor": 5
}
